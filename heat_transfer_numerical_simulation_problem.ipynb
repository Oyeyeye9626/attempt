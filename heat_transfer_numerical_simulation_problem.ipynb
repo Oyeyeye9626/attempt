{
 "cells": [
  {
   "cell_type": "markdown",
   "metadata": {},
   "source": [
    "Attempting to duplicate Fig 6 from this paper: https://escholarship.org/uc/item/7341v57b"
   ]
  },
  {
   "cell_type": "code",
   "execution_count": 1,
   "metadata": {},
   "outputs": [],
   "source": [
    "import numpy as np\n",
    "import matplotlib.pyplot as plt"
   ]
  },
  {
   "cell_type": "code",
   "execution_count": 2,
   "metadata": {},
   "outputs": [],
   "source": [
    "#solids physical properties, checked\n",
    "rho_s = 7.87e3 #[kg/m^3]\n",
    "c_p_s = 4.82e2 #[J/kg-K]\n",
    "\n",
    "#fluid physical properties\n",
    "rho_f = 1.070 #[kg/m^3]\n",
    "mu_f = 1.99e-5 #[kg/m-s]\n",
    "k_f = 2.79e-2 #[W/m-K]\n",
    "c_p_f = 1.006e3 #[J/kg-K]"
   ]
  },
  {
   "cell_type": "code",
   "execution_count": 3,
   "metadata": {},
   "outputs": [],
   "source": [
    "#inputs\n",
    "ep_bed = 0.39 #average bed porosity\n",
    "k_eff = 20 #effective thermal conductivity, [W/m-K]\n",
    "rho_s = 7.87e3 #solid density, [kg/m^3]\n",
    "d_p = 4.76e-3 #sphere diameter, [m]\n",
    "D = 6.731e-2 #tube diameter, [m]\n",
    "L = 4.826e-2 #porous medium length, [m]\n",
    "Re = 300\n",
    "\n",
    "h = 150\n",
    "\n",
    "V = np.pi*D**2/4*L\n",
    "\n",
    "Q_dot = 10**2 / (V*(1-ep_bed)) #[W/m^3]\n",
    "\n",
    "#geometrical calculations\n",
    "S = 6 * (1 - ep_bed) / d_p #specific surface area, [1/m]\n",
    "chi = 4 * ep_bed / (S * L) #hydraulic diameter to length ratio\n",
    "\n",
    "#gas calculations\n",
    "U = Re * mu_f * S / (4 * rho_f) #core superficial velocity, [m/s]\n",
    "m_dot = U * rho_f #mass flux, [kg/m^2]\n",
    "\n",
    "#dimensionless numbers\n",
    "Nu = 4 * h * ep_bed / (S * k_f)\n",
    "Pr = c_p_f * mu_f / k_f\n",
    "\n",
    "#dimensionless parameters\n",
    "delta_T_f = Q_dot * L * (1-ep_bed) / (m_dot * c_p_f) #characterstic temperature difference\n",
    "Tau = ep_bed * L / U #characteristic time\n",
    "\n",
    "alpha = 4 * Nu / (chi * Re * Pr)\n",
    "beta = ep_bed/(1-ep_bed) * rho_f * c_p_f / (rho_s * c_p_s)\n",
    "gamma = k_eff / k_f * chi / (ep_bed * Re * Pr)\n"
   ]
  },
  {
   "cell_type": "code",
   "execution_count": 9,
   "metadata": {},
   "outputs": [],
   "source": [
    "#numerical inputs\n",
    "num_slices = 20\n",
    "num_steps = 500000 \n",
    "final_t = 25000\n",
    "\n",
    "#numerical integration\n",
    "t = 0\n",
    "dt = final_t / num_steps\n",
    "dz = 1 / num_slices\n",
    "ts = [t]\n",
    "Ts = np.zeros((num_steps,num_slices)) # Theta_s for solids\n",
    "Tg = np.zeros((num_steps,num_slices)) # Theta_g for gas\n",
    "\n",
    "z_max = num_slices-1\n",
    "\n",
    "#PDEs\n",
    "for i in range(1,num_steps): #time iteration\n",
    "\n",
    "    # Non-boundary\n",
    "    #  solids temp\n",
    "    Ts[i,1:-1] =  Ts[i-1,1:-1] + dt * (alpha * beta * (Tg[i-1,1:-1] - Ts[i-1,1:-1]) + beta + beta*gamma*(Ts[i,:-2] - 2*Ts[i,1:-1] + Ts[i,2:])/(dz**2))\n",
    "\n",
    "    #  gas temp\n",
    "    Tg[i,1:z_max] = Tg[i-1,1:z_max]+dt * ((Tg[i-1,:-2]-Tg[i-1,1:z_max])/dz+alpha * (Ts[i-1,1:z_max]-Tg[i-1,1:z_max]))\n",
    "\n",
    "    # Boundary conditions\n",
    "    Tg[i,0] == 0\n",
    "    Ts[i,1]-Ts[i,0] == 0\n",
    "    Ts[i,-2]-Ts[i,-1] == 0\n",
    "    \n",
    "    t += dt\n",
    "    ts.append(t)\n",
    "    \n"
   ]
  },
  {
   "cell_type": "markdown",
   "id": "3c6d602d",
   "metadata": {},
   "source": [
    "#i didn't successfully made it. what i understand is that to calculate delta_sim, \\n we should use the last column of Tg minus the first column of Tg. but"
   ]
  },
  {
   "cell_type": "code",
   "execution_count": 10,
   "metadata": {},
   "outputs": [
    {
     "data": {
      "image/png": "[encoded data removed]",
      "text/plain": [
       "<Figure size 640x480 with 1 Axes>"
      ]
     },
     "metadata": {},
     "output_type": "display_data"
    }
   ],
   "source": [
    " \n",
    "delta_sim =Tg[:,18]-Tg[:,0]\n",
    "plt.plot(ts,delta_sim)\n",
    "plt.xlabel(\"$\\hat{t}$\")\n",
    "plt.ylabel(\"$\\delta_{sim}$\")\n",
    "plt.ylim(0, 1)\n",
    "plt.xlim(0, 25000)\n",
    "plt.grid()"
   ]
  }
 ],
 "metadata": {
  "kernelspec": {
   "display_name": "Python 3 (ipykernel)",
   "language": "python",
   "name": "python3"
  },
  "language_info": {
   "codemirror_mode": {
    "name": "ipython",
    "version": 3
   },
   "file_extension": ".py",
   "mimetype": "text/x-python",
   "name": "python",
   "nbconvert_exporter": "python",
   "pygments_lexer": "ipython3",
   "version": "3.11.7"
  }
 },
 "nbformat": 4,
 "nbformat_minor": 5
}
